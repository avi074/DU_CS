{
 "cells": [
  {
   "cell_type": "markdown",
   "metadata": {},
   "source": [
    "## DAV Exam 2020"
   ]
  },
  {
   "cell_type": "code",
   "execution_count": 2,
   "metadata": {},
   "outputs": [],
   "source": [
    "# All Imports\n",
    "import pandas as pd\n",
    "import numpy as np\n",
    "import matplotlib.pyplot as plt "
   ]
  },
  {
   "cell_type": "markdown",
   "metadata": {},
   "source": [
    "### Q.1"
   ]
  },
  {
   "cell_type": "markdown",
   "metadata": {},
   "source": [
    "##### (a)"
   ]
  },
  {
   "cell_type": "code",
   "execution_count": 2,
   "metadata": {},
   "outputs": [
    {
     "data": {
      "text/plain": [
       "['Good Morning',\n",
       " 'Good Evening',\n",
       " 'Hello',\n",
       " 'Good afternoon',\n",
       " 'Greetings',\n",
       " 'Good Morning',\n",
       " 'Nice to see you']"
      ]
     },
     "execution_count": 2,
     "metadata": {},
     "output_type": "execute_result"
    }
   ],
   "source": [
    "List1 = ['Good Morning', 'Good Evening', 'Hello', 'Good afternoon', \n",
    "         'Greetings','Good Morning', 'Nice to see you']\n",
    "\n",
    "List1"
   ]
  },
  {
   "cell_type": "code",
   "execution_count": 3,
   "metadata": {},
   "outputs": [
    {
     "name": "stdout",
     "output_type": "stream",
     "text": [
      "\n",
      "NewList :\n",
      " ['Hello', 'Nice to see you', 'Good Morning', 'Good afternoon', 'Good Evening', 'Greetings']\n",
      "\n",
      "NewList2 :\n",
      " ['Good Morning', 'Good Evening', 'Hello', 'Good afternoon', 'Greetings', 'Nice to see you']\n"
     ]
    }
   ],
   "source": [
    "NewList = [*set(List1)] # one way\n",
    "NewList2 = [List1[x] for x in range(len(List1)) if List1[x] not in List1[0:x]] # another way\n",
    "print('\\nNewList :\\n', NewList)\n",
    "print('\\nNewList2 :\\n', NewList2)"
   ]
  },
  {
   "cell_type": "code",
   "execution_count": 4,
   "metadata": {},
   "outputs": [
    {
     "data": {
      "text/plain": [
       "['Good Morning',\n",
       " 'Good Evening',\n",
       " 'Good Morning',\n",
       " 'Good afternoon',\n",
       " 'Hello',\n",
       " 'Greetings',\n",
       " 'Nice to see you']"
      ]
     },
     "execution_count": 4,
     "metadata": {},
     "output_type": "execute_result"
    }
   ],
   "source": [
    "List1.sort(key=lambda x: x[-1])\n",
    "List1"
   ]
  },
  {
   "cell_type": "markdown",
   "metadata": {},
   "source": [
    "#### (b)"
   ]
  },
  {
   "cell_type": "code",
   "execution_count": 5,
   "metadata": {},
   "outputs": [
    {
     "data": {
      "text/plain": [
       "{1: ['Hello', 'Greetings'],\n",
       " 2: ['Good Morning', 'Good Evening', 'Good Morning', 'Good afternoon'],\n",
       " 4: ['Nice to see you']}"
      ]
     },
     "execution_count": 5,
     "metadata": {},
     "output_type": "execute_result"
    }
   ],
   "source": [
    "Anydict = {}\n",
    "\n",
    "for x in List1:\n",
    "    c = x.count(' ') + 1;\n",
    "    if c in Anydict.keys():\n",
    "        Anydict[c].append(x)\n",
    "    else:\n",
    "        Anydict[c] = [x]\n",
    "\n",
    "Anydict = dict(sorted(Anydict.items()))\n",
    "Anydict"
   ]
  },
  {
   "cell_type": "code",
   "execution_count": 6,
   "metadata": {},
   "outputs": [
    {
     "data": {
      "text/plain": [
       "1                                   [Hello, Greetings]\n",
       "2    [Good Morning, Good Evening, Good Morning, Goo...\n",
       "4                                    [Nice to see you]\n",
       "dtype: object"
      ]
     },
     "execution_count": 6,
     "metadata": {},
     "output_type": "execute_result"
    }
   ],
   "source": [
    "Ds1 = pd.Series(Anydict)\n",
    "Ds1 "
   ]
  },
  {
   "cell_type": "markdown",
   "metadata": {},
   "source": [
    "#### (c)"
   ]
  },
  {
   "cell_type": "code",
   "execution_count": 7,
   "metadata": {},
   "outputs": [
    {
     "data": {
      "image/png": "[encoded data removed]",
      "text/plain": [
       "<Figure size 640x480 with 1 Axes>"
      ]
     },
     "metadata": {},
     "output_type": "display_data"
    }
   ],
   "source": [
    "f = [len(x) for x in Ds1]\n",
    "plt.barh(Ds1.index, f, color=['r','g','b','y'])\n",
    "plt.title(\"Frequency per words count\", fontsize=13, fontweight=\"bold\")\n",
    "plt.ylabel(\"Words Count\", fontweight = 'bold', fontsize=13)\n",
    "plt.xlabel(\"Frequency\", fontweight = 'bold', fontsize=13)\n",
    "plt.yticks(range(max(Ds1.index)+1), fontweight = 'bold')\n",
    "plt.xticks(range(max(f)+1), fontweight = 'bold')\n",
    "plt.show()\n",
    "    "
   ]
  },
  {
   "cell_type": "markdown",
   "metadata": {},
   "source": [
    "### Q.2"
   ]
  },
  {
   "cell_type": "code",
   "execution_count": 55,
   "metadata": {},
   "outputs": [
    {
     "data": {
      "text/html": [
       "<div>\n",
       "<style scoped>\n",
       "    .dataframe tbody tr th:only-of-type {\n",
       "        vertical-align: middle;\n",
       "    }\n",
       "\n",
       "    .dataframe tbody tr th {\n",
       "        vertical-align: top;\n",
       "    }\n",
       "\n",
       "    .dataframe thead th {\n",
       "        text-align: right;\n",
       "    }\n",
       "</style>\n",
       "<table border=\"1\" class=\"dataframe\">\n",
       "  <thead>\n",
       "    <tr style=\"text-align: right;\">\n",
       "      <th></th>\n",
       "      <th>ID</th>\n",
       "      <th>Name</th>\n",
       "      <th>Diet</th>\n",
       "      <th>Pulse</th>\n",
       "      <th>Time (min)</th>\n",
       "      <th>Kind</th>\n",
       "    </tr>\n",
       "  </thead>\n",
       "  <tbody>\n",
       "    <tr>\n",
       "      <th>0</th>\n",
       "      <td>0</td>\n",
       "      <td>A</td>\n",
       "      <td>low fat</td>\n",
       "      <td>85</td>\n",
       "      <td>40</td>\n",
       "      <td>walking</td>\n",
       "    </tr>\n",
       "    <tr>\n",
       "      <th>1</th>\n",
       "      <td>1</td>\n",
       "      <td>A</td>\n",
       "      <td>low fat</td>\n",
       "      <td>85</td>\n",
       "      <td>45</td>\n",
       "      <td>walking</td>\n",
       "    </tr>\n",
       "    <tr>\n",
       "      <th>2</th>\n",
       "      <td>2</td>\n",
       "      <td>A</td>\n",
       "      <td>no fat</td>\n",
       "      <td>88</td>\n",
       "      <td>30</td>\n",
       "      <td>running</td>\n",
       "    </tr>\n",
       "    <tr>\n",
       "      <th>3</th>\n",
       "      <td>3</td>\n",
       "      <td>B</td>\n",
       "      <td>no fat</td>\n",
       "      <td>90</td>\n",
       "      <td>10</td>\n",
       "      <td>walking</td>\n",
       "    </tr>\n",
       "    <tr>\n",
       "      <th>4</th>\n",
       "      <td>4</td>\n",
       "      <td>B</td>\n",
       "      <td>no fat</td>\n",
       "      <td>92</td>\n",
       "      <td>15</td>\n",
       "      <td>rest</td>\n",
       "    </tr>\n",
       "    <tr>\n",
       "      <th>5</th>\n",
       "      <td>5</td>\n",
       "      <td>B</td>\n",
       "      <td>low fat</td>\n",
       "      <td>93</td>\n",
       "      <td>30</td>\n",
       "      <td>rest</td>\n",
       "    </tr>\n",
       "    <tr>\n",
       "      <th>6</th>\n",
       "      <td>6</td>\n",
       "      <td>C</td>\n",
       "      <td>low fat</td>\n",
       "      <td>97</td>\n",
       "      <td>15</td>\n",
       "      <td>rest</td>\n",
       "    </tr>\n",
       "    <tr>\n",
       "      <th>7</th>\n",
       "      <td>7</td>\n",
       "      <td>C</td>\n",
       "      <td>low fat</td>\n",
       "      <td>97</td>\n",
       "      <td>15</td>\n",
       "      <td>rest</td>\n",
       "    </tr>\n",
       "    <tr>\n",
       "      <th>8</th>\n",
       "      <td>8</td>\n",
       "      <td>C</td>\n",
       "      <td>low fat</td>\n",
       "      <td>94</td>\n",
       "      <td>30</td>\n",
       "      <td>walking</td>\n",
       "    </tr>\n",
       "    <tr>\n",
       "      <th>9</th>\n",
       "      <td>9</td>\n",
       "      <td>D</td>\n",
       "      <td>low fat</td>\n",
       "      <td>80</td>\n",
       "      <td>10</td>\n",
       "      <td>walking</td>\n",
       "    </tr>\n",
       "    <tr>\n",
       "      <th>10</th>\n",
       "      <td>10</td>\n",
       "      <td>D</td>\n",
       "      <td>low fat</td>\n",
       "      <td>82</td>\n",
       "      <td>15</td>\n",
       "      <td>rest</td>\n",
       "    </tr>\n",
       "    <tr>\n",
       "      <th>11</th>\n",
       "      <td>11</td>\n",
       "      <td>D</td>\n",
       "      <td>low fat</td>\n",
       "      <td>83</td>\n",
       "      <td>30</td>\n",
       "      <td>rest</td>\n",
       "    </tr>\n",
       "    <tr>\n",
       "      <th>12</th>\n",
       "      <td>12</td>\n",
       "      <td>E</td>\n",
       "      <td>no fat</td>\n",
       "      <td>91</td>\n",
       "      <td>10</td>\n",
       "      <td>rest</td>\n",
       "    </tr>\n",
       "    <tr>\n",
       "      <th>13</th>\n",
       "      <td>13</td>\n",
       "      <td>E</td>\n",
       "      <td>low fat</td>\n",
       "      <td>92</td>\n",
       "      <td>15</td>\n",
       "      <td>running</td>\n",
       "    </tr>\n",
       "    <tr>\n",
       "      <th>14</th>\n",
       "      <td>14</td>\n",
       "      <td>E</td>\n",
       "      <td>low fat</td>\n",
       "      <td>91</td>\n",
       "      <td>30</td>\n",
       "      <td>running</td>\n",
       "    </tr>\n",
       "  </tbody>\n",
       "</table>\n",
       "</div>"
      ],
      "text/plain": [
       "    ID Name     Diet  Pulse  Time (min)     Kind\n",
       "0    0    A  low fat     85          40  walking\n",
       "1    1    A  low fat     85          45  walking\n",
       "2    2    A   no fat     88          30  running\n",
       "3    3    B   no fat     90          10  walking\n",
       "4    4    B   no fat     92          15     rest\n",
       "5    5    B  low fat     93          30     rest\n",
       "6    6    C  low fat     97          15     rest\n",
       "7    7    C  low fat     97          15     rest\n",
       "8    8    C  low fat     94          30  walking\n",
       "9    9    D  low fat     80          10  walking\n",
       "10  10    D  low fat     82          15     rest\n",
       "11  11    D  low fat     83          30     rest\n",
       "12  12    E   no fat     91          10     rest\n",
       "13  13    E  low fat     92          15  running\n",
       "14  14    E  low fat     91          30  running"
      ]
     },
     "execution_count": 55,
     "metadata": {},
     "output_type": "execute_result"
    }
   ],
   "source": [
    "ch = np.array(['A', 'B', 'C', 'D', 'E'])\n",
    "diet = np.array(['low fat', 'no fat'])\n",
    "kind = np.array([\"walking\", \"running\",\"rest\"])\n",
    "EXERCISE = pd.DataFrame({\n",
    "    'ID'  : np.arange(15), \n",
    "    'Name': ch.repeat(3), \n",
    "    'Diet': diet[[0,0,1,1,1,0,0,0,0,0,0,0,1,0,0]],\n",
    "    'Pulse':[85,85,88,90,92,93,97,97,94,80,82,83,91,92,91],\n",
    "    'Time (min)':[40,45,30,10,15,30,15,15,30,10,15,30,10,15,30],\n",
    "    'Kind':kind[[0,0,1,0,2,2,2,2,0,0,2,2,2,1,1]]\n",
    "})\n",
    "EXERCISE"
   ]
  },
  {
   "cell_type": "markdown",
   "metadata": {},
   "source": [
    "#### (a)"
   ]
  },
  {
   "cell_type": "code",
   "execution_count": 9,
   "metadata": {},
   "outputs": [
    {
     "data": {
      "text/html": [
       "<div>\n",
       "<style scoped>\n",
       "    .dataframe tbody tr th:only-of-type {\n",
       "        vertical-align: middle;\n",
       "    }\n",
       "\n",
       "    .dataframe tbody tr th {\n",
       "        vertical-align: top;\n",
       "    }\n",
       "\n",
       "    .dataframe thead th {\n",
       "        text-align: right;\n",
       "    }\n",
       "</style>\n",
       "<table border=\"1\" class=\"dataframe\">\n",
       "  <thead>\n",
       "    <tr style=\"text-align: right;\">\n",
       "      <th></th>\n",
       "      <th></th>\n",
       "      <th>ID</th>\n",
       "      <th>Pulse</th>\n",
       "      <th>Time (min)</th>\n",
       "      <th>Kind</th>\n",
       "    </tr>\n",
       "    <tr>\n",
       "      <th>Name</th>\n",
       "      <th>Diet</th>\n",
       "      <th></th>\n",
       "      <th></th>\n",
       "      <th></th>\n",
       "      <th></th>\n",
       "    </tr>\n",
       "  </thead>\n",
       "  <tbody>\n",
       "    <tr>\n",
       "      <th rowspan=\"3\" valign=\"top\">A</th>\n",
       "      <th>low fat</th>\n",
       "      <td>0</td>\n",
       "      <td>85</td>\n",
       "      <td>40</td>\n",
       "      <td>walking</td>\n",
       "    </tr>\n",
       "    <tr>\n",
       "      <th>low fat</th>\n",
       "      <td>1</td>\n",
       "      <td>85</td>\n",
       "      <td>45</td>\n",
       "      <td>walking</td>\n",
       "    </tr>\n",
       "    <tr>\n",
       "      <th>no fat</th>\n",
       "      <td>2</td>\n",
       "      <td>88</td>\n",
       "      <td>30</td>\n",
       "      <td>running</td>\n",
       "    </tr>\n",
       "    <tr>\n",
       "      <th rowspan=\"3\" valign=\"top\">B</th>\n",
       "      <th>no fat</th>\n",
       "      <td>3</td>\n",
       "      <td>90</td>\n",
       "      <td>10</td>\n",
       "      <td>walking</td>\n",
       "    </tr>\n",
       "    <tr>\n",
       "      <th>no fat</th>\n",
       "      <td>4</td>\n",
       "      <td>92</td>\n",
       "      <td>15</td>\n",
       "      <td>rest</td>\n",
       "    </tr>\n",
       "    <tr>\n",
       "      <th>low fat</th>\n",
       "      <td>5</td>\n",
       "      <td>93</td>\n",
       "      <td>30</td>\n",
       "      <td>rest</td>\n",
       "    </tr>\n",
       "    <tr>\n",
       "      <th rowspan=\"3\" valign=\"top\">C</th>\n",
       "      <th>low fat</th>\n",
       "      <td>6</td>\n",
       "      <td>97</td>\n",
       "      <td>15</td>\n",
       "      <td>rest</td>\n",
       "    </tr>\n",
       "    <tr>\n",
       "      <th>low fat</th>\n",
       "      <td>7</td>\n",
       "      <td>97</td>\n",
       "      <td>15</td>\n",
       "      <td>rest</td>\n",
       "    </tr>\n",
       "    <tr>\n",
       "      <th>low fat</th>\n",
       "      <td>8</td>\n",
       "      <td>94</td>\n",
       "      <td>30</td>\n",
       "      <td>walking</td>\n",
       "    </tr>\n",
       "    <tr>\n",
       "      <th rowspan=\"3\" valign=\"top\">D</th>\n",
       "      <th>low fat</th>\n",
       "      <td>9</td>\n",
       "      <td>80</td>\n",
       "      <td>10</td>\n",
       "      <td>walking</td>\n",
       "    </tr>\n",
       "    <tr>\n",
       "      <th>low fat</th>\n",
       "      <td>10</td>\n",
       "      <td>82</td>\n",
       "      <td>15</td>\n",
       "      <td>rest</td>\n",
       "    </tr>\n",
       "    <tr>\n",
       "      <th>low fat</th>\n",
       "      <td>11</td>\n",
       "      <td>83</td>\n",
       "      <td>30</td>\n",
       "      <td>rest</td>\n",
       "    </tr>\n",
       "    <tr>\n",
       "      <th rowspan=\"3\" valign=\"top\">E</th>\n",
       "      <th>no fat</th>\n",
       "      <td>12</td>\n",
       "      <td>91</td>\n",
       "      <td>10</td>\n",
       "      <td>rest</td>\n",
       "    </tr>\n",
       "    <tr>\n",
       "      <th>low fat</th>\n",
       "      <td>13</td>\n",
       "      <td>92</td>\n",
       "      <td>15</td>\n",
       "      <td>running</td>\n",
       "    </tr>\n",
       "    <tr>\n",
       "      <th>low fat</th>\n",
       "      <td>14</td>\n",
       "      <td>91</td>\n",
       "      <td>30</td>\n",
       "      <td>running</td>\n",
       "    </tr>\n",
       "  </tbody>\n",
       "</table>\n",
       "</div>"
      ],
      "text/plain": [
       "              ID  Pulse  Time (min)     Kind\n",
       "Name Diet                                   \n",
       "A    low fat   0     85          40  walking\n",
       "     low fat   1     85          45  walking\n",
       "     no fat    2     88          30  running\n",
       "B    no fat    3     90          10  walking\n",
       "     no fat    4     92          15     rest\n",
       "     low fat   5     93          30     rest\n",
       "C    low fat   6     97          15     rest\n",
       "     low fat   7     97          15     rest\n",
       "     low fat   8     94          30  walking\n",
       "D    low fat   9     80          10  walking\n",
       "     low fat  10     82          15     rest\n",
       "     low fat  11     83          30     rest\n",
       "E    no fat   12     91          10     rest\n",
       "     low fat  13     92          15  running\n",
       "     low fat  14     91          30  running"
      ]
     },
     "execution_count": 9,
     "metadata": {},
     "output_type": "execute_result"
    }
   ],
   "source": [
    "SELECTED = EXERCISE.set_index(['Name', 'Diet'])\n",
    "SELECTED"
   ]
  },
  {
   "cell_type": "code",
   "execution_count": 10,
   "metadata": {},
   "outputs": [
    {
     "data": {
      "text/plain": [
       "Name  Diet   \n",
       "A     low fat    85\n",
       "      no fat     88\n",
       "B     low fat    93\n",
       "      no fat     92\n",
       "C     low fat    97\n",
       "D     low fat    83\n",
       "E     low fat    92\n",
       "      no fat     91\n",
       "Name: Pulse, dtype: int64"
      ]
     },
     "execution_count": 10,
     "metadata": {},
     "output_type": "execute_result"
    }
   ],
   "source": [
    "SELECTED.groupby(level=[0,1])['Pulse'].max()"
   ]
  },
  {
   "cell_type": "markdown",
   "metadata": {},
   "source": [
    "#### (b)"
   ]
  },
  {
   "cell_type": "code",
   "execution_count": 11,
   "metadata": {},
   "outputs": [
    {
     "data": {
      "text/html": [
       "<div>\n",
       "<style scoped>\n",
       "    .dataframe tbody tr th:only-of-type {\n",
       "        vertical-align: middle;\n",
       "    }\n",
       "\n",
       "    .dataframe tbody tr th {\n",
       "        vertical-align: top;\n",
       "    }\n",
       "\n",
       "    .dataframe thead th {\n",
       "        text-align: right;\n",
       "    }\n",
       "</style>\n",
       "<table border=\"1\" class=\"dataframe\">\n",
       "  <thead>\n",
       "    <tr style=\"text-align: right;\">\n",
       "      <th></th>\n",
       "      <th></th>\n",
       "      <th>ID</th>\n",
       "      <th>Pulse</th>\n",
       "      <th>Time (min)</th>\n",
       "      <th>Kind</th>\n",
       "    </tr>\n",
       "    <tr>\n",
       "      <th>Name</th>\n",
       "      <th>Diet</th>\n",
       "      <th></th>\n",
       "      <th></th>\n",
       "      <th></th>\n",
       "      <th></th>\n",
       "    </tr>\n",
       "  </thead>\n",
       "  <tbody>\n",
       "    <tr>\n",
       "      <th rowspan=\"2\" valign=\"top\">A</th>\n",
       "      <th>low fat</th>\n",
       "      <td>0</td>\n",
       "      <td>85</td>\n",
       "      <td>40</td>\n",
       "      <td>walking</td>\n",
       "    </tr>\n",
       "    <tr>\n",
       "      <th>low fat</th>\n",
       "      <td>1</td>\n",
       "      <td>85</td>\n",
       "      <td>45</td>\n",
       "      <td>walking</td>\n",
       "    </tr>\n",
       "    <tr>\n",
       "      <th>B</th>\n",
       "      <th>low fat</th>\n",
       "      <td>5</td>\n",
       "      <td>93</td>\n",
       "      <td>30</td>\n",
       "      <td>rest</td>\n",
       "    </tr>\n",
       "  </tbody>\n",
       "</table>\n",
       "</div>"
      ],
      "text/plain": [
       "              ID  Pulse  Time (min)     Kind\n",
       "Name Diet                                   \n",
       "A    low fat   0     85          40  walking\n",
       "     low fat   1     85          45  walking\n",
       "B    low fat   5     93          30     rest"
      ]
     },
     "execution_count": 11,
     "metadata": {},
     "output_type": "execute_result"
    }
   ],
   "source": [
    "SELECTED.loc[(['A','B'], 'low fat'),] # one way"
   ]
  },
  {
   "cell_type": "code",
   "execution_count": 12,
   "metadata": {},
   "outputs": [
    {
     "data": {
      "text/html": [
       "<div>\n",
       "<style scoped>\n",
       "    .dataframe tbody tr th:only-of-type {\n",
       "        vertical-align: middle;\n",
       "    }\n",
       "\n",
       "    .dataframe tbody tr th {\n",
       "        vertical-align: top;\n",
       "    }\n",
       "\n",
       "    .dataframe thead th {\n",
       "        text-align: right;\n",
       "    }\n",
       "</style>\n",
       "<table border=\"1\" class=\"dataframe\">\n",
       "  <thead>\n",
       "    <tr style=\"text-align: right;\">\n",
       "      <th></th>\n",
       "      <th></th>\n",
       "      <th>ID</th>\n",
       "      <th>Pulse</th>\n",
       "      <th>Time (min)</th>\n",
       "      <th>Kind</th>\n",
       "    </tr>\n",
       "    <tr>\n",
       "      <th>Name</th>\n",
       "      <th>Diet</th>\n",
       "      <th></th>\n",
       "      <th></th>\n",
       "      <th></th>\n",
       "      <th></th>\n",
       "    </tr>\n",
       "  </thead>\n",
       "  <tbody>\n",
       "    <tr>\n",
       "      <th rowspan=\"2\" valign=\"top\">A</th>\n",
       "      <th>low fat</th>\n",
       "      <td>0</td>\n",
       "      <td>85</td>\n",
       "      <td>40</td>\n",
       "      <td>walking</td>\n",
       "    </tr>\n",
       "    <tr>\n",
       "      <th>low fat</th>\n",
       "      <td>1</td>\n",
       "      <td>85</td>\n",
       "      <td>45</td>\n",
       "      <td>walking</td>\n",
       "    </tr>\n",
       "    <tr>\n",
       "      <th>B</th>\n",
       "      <th>low fat</th>\n",
       "      <td>5</td>\n",
       "      <td>93</td>\n",
       "      <td>30</td>\n",
       "      <td>rest</td>\n",
       "    </tr>\n",
       "  </tbody>\n",
       "</table>\n",
       "</div>"
      ],
      "text/plain": [
       "              ID  Pulse  Time (min)     Kind\n",
       "Name Diet                                   \n",
       "A    low fat   0     85          40  walking\n",
       "     low fat   1     85          45  walking\n",
       "B    low fat   5     93          30     rest"
      ]
     },
     "execution_count": 12,
     "metadata": {},
     "output_type": "execute_result"
    }
   ],
   "source": [
    "SELECTED.loc[(ch[(ch == 'A') | (ch == 'B')], diet[diet == 'low fat']),] # another way"
   ]
  },
  {
   "cell_type": "code",
   "execution_count": 13,
   "metadata": {},
   "outputs": [
    {
     "data": {
      "text/html": [
       "<div>\n",
       "<style scoped>\n",
       "    .dataframe tbody tr th:only-of-type {\n",
       "        vertical-align: middle;\n",
       "    }\n",
       "\n",
       "    .dataframe tbody tr th {\n",
       "        vertical-align: top;\n",
       "    }\n",
       "\n",
       "    .dataframe thead th {\n",
       "        text-align: right;\n",
       "    }\n",
       "</style>\n",
       "<table border=\"1\" class=\"dataframe\">\n",
       "  <thead>\n",
       "    <tr style=\"text-align: right;\">\n",
       "      <th></th>\n",
       "      <th></th>\n",
       "      <th>ID</th>\n",
       "      <th>Pulse</th>\n",
       "      <th>Time (min)</th>\n",
       "      <th>Kind</th>\n",
       "    </tr>\n",
       "    <tr>\n",
       "      <th>Name</th>\n",
       "      <th>Diet</th>\n",
       "      <th></th>\n",
       "      <th></th>\n",
       "      <th></th>\n",
       "      <th></th>\n",
       "    </tr>\n",
       "  </thead>\n",
       "  <tbody>\n",
       "    <tr>\n",
       "      <th rowspan=\"3\" valign=\"top\">E</th>\n",
       "      <th>no fat</th>\n",
       "      <td>12</td>\n",
       "      <td>91</td>\n",
       "      <td>10</td>\n",
       "      <td>rest</td>\n",
       "    </tr>\n",
       "    <tr>\n",
       "      <th>low fat</th>\n",
       "      <td>14</td>\n",
       "      <td>91</td>\n",
       "      <td>30</td>\n",
       "      <td>running</td>\n",
       "    </tr>\n",
       "    <tr>\n",
       "      <th>low fat</th>\n",
       "      <td>13</td>\n",
       "      <td>92</td>\n",
       "      <td>15</td>\n",
       "      <td>running</td>\n",
       "    </tr>\n",
       "    <tr>\n",
       "      <th rowspan=\"3\" valign=\"top\">D</th>\n",
       "      <th>low fat</th>\n",
       "      <td>11</td>\n",
       "      <td>83</td>\n",
       "      <td>30</td>\n",
       "      <td>rest</td>\n",
       "    </tr>\n",
       "    <tr>\n",
       "      <th>low fat</th>\n",
       "      <td>10</td>\n",
       "      <td>82</td>\n",
       "      <td>15</td>\n",
       "      <td>rest</td>\n",
       "    </tr>\n",
       "    <tr>\n",
       "      <th>low fat</th>\n",
       "      <td>9</td>\n",
       "      <td>80</td>\n",
       "      <td>10</td>\n",
       "      <td>walking</td>\n",
       "    </tr>\n",
       "    <tr>\n",
       "      <th rowspan=\"3\" valign=\"top\">C</th>\n",
       "      <th>low fat</th>\n",
       "      <td>8</td>\n",
       "      <td>94</td>\n",
       "      <td>30</td>\n",
       "      <td>walking</td>\n",
       "    </tr>\n",
       "    <tr>\n",
       "      <th>low fat</th>\n",
       "      <td>7</td>\n",
       "      <td>97</td>\n",
       "      <td>15</td>\n",
       "      <td>rest</td>\n",
       "    </tr>\n",
       "    <tr>\n",
       "      <th>low fat</th>\n",
       "      <td>6</td>\n",
       "      <td>97</td>\n",
       "      <td>15</td>\n",
       "      <td>rest</td>\n",
       "    </tr>\n",
       "    <tr>\n",
       "      <th rowspan=\"3\" valign=\"top\">B</th>\n",
       "      <th>no fat</th>\n",
       "      <td>4</td>\n",
       "      <td>92</td>\n",
       "      <td>15</td>\n",
       "      <td>rest</td>\n",
       "    </tr>\n",
       "    <tr>\n",
       "      <th>no fat</th>\n",
       "      <td>3</td>\n",
       "      <td>90</td>\n",
       "      <td>10</td>\n",
       "      <td>walking</td>\n",
       "    </tr>\n",
       "    <tr>\n",
       "      <th>low fat</th>\n",
       "      <td>5</td>\n",
       "      <td>93</td>\n",
       "      <td>30</td>\n",
       "      <td>rest</td>\n",
       "    </tr>\n",
       "    <tr>\n",
       "      <th rowspan=\"3\" valign=\"top\">A</th>\n",
       "      <th>no fat</th>\n",
       "      <td>2</td>\n",
       "      <td>88</td>\n",
       "      <td>30</td>\n",
       "      <td>running</td>\n",
       "    </tr>\n",
       "    <tr>\n",
       "      <th>low fat</th>\n",
       "      <td>1</td>\n",
       "      <td>85</td>\n",
       "      <td>45</td>\n",
       "      <td>walking</td>\n",
       "    </tr>\n",
       "    <tr>\n",
       "      <th>low fat</th>\n",
       "      <td>0</td>\n",
       "      <td>85</td>\n",
       "      <td>40</td>\n",
       "      <td>walking</td>\n",
       "    </tr>\n",
       "  </tbody>\n",
       "</table>\n",
       "</div>"
      ],
      "text/plain": [
       "              ID  Pulse  Time (min)     Kind\n",
       "Name Diet                                   \n",
       "E    no fat   12     91          10     rest\n",
       "     low fat  14     91          30  running\n",
       "     low fat  13     92          15  running\n",
       "D    low fat  11     83          30     rest\n",
       "     low fat  10     82          15     rest\n",
       "     low fat   9     80          10  walking\n",
       "C    low fat   8     94          30  walking\n",
       "     low fat   7     97          15     rest\n",
       "     low fat   6     97          15     rest\n",
       "B    no fat    4     92          15     rest\n",
       "     no fat    3     90          10  walking\n",
       "     low fat   5     93          30     rest\n",
       "A    no fat    2     88          30  running\n",
       "     low fat   1     85          45  walking\n",
       "     low fat   0     85          40  walking"
      ]
     },
     "execution_count": 13,
     "metadata": {},
     "output_type": "execute_result"
    }
   ],
   "source": [
    "SELECTED.sort_index(level=0, ascending=False) # sorting"
   ]
  },
  {
   "cell_type": "markdown",
   "metadata": {},
   "source": [
    "#### (c)"
   ]
  },
  {
   "cell_type": "code",
   "execution_count": 18,
   "metadata": {},
   "outputs": [
    {
     "data": {
      "image/png": "[encoded data removed]",
      "text/plain": [
       "<Figure size 1000x1400 with 2 Axes>"
      ]
     },
     "metadata": {},
     "output_type": "display_data"
    }
   ],
   "source": [
    "fig = plt.figure(figsize=(10, 14))\n",
    "ax1 = fig.add_subplot(2,1,1)\n",
    "EXERCISE.groupby(['Name', 'Diet'])['Pulse'].mean().plot.barh(ax=ax1, color = ['r', 'g','b','black','y','indigo', 'violet', 'orange'])\n",
    "ax1.set_xlabel('Pulse', fontweight='bold', fontsize=13)\n",
    "ax1.set_ylabel('(Name, Diet)',fontweight='bold')\n",
    "\n",
    "ax2 = fig.add_subplot(2,1,2)\n",
    "cmap = EXERCISE['Kind'].map({kind[0]:'r', kind[1]:'b', kind[2]:'g'})\n",
    "ax2 = EXERCISE.plot.scatter(x='Pulse', y = 'Time (min)', ax = ax2, c=cmap, legend=True)\n",
    "ax2.set_xlabel('Pulse', fontweight='bold', fontsize=13)\n",
    "ax2.set_ylabel('Time (min)',fontweight='bold')\n",
    "\n",
    "fig.suptitle(\"EXERCISE\", fontsize=15, fontweight=\"bold\")\n",
    "plt.show()\n",
    "fig.savefig(\"exerciseplot.jpeg\")"
   ]
  },
  {
   "cell_type": "markdown",
   "metadata": {},
   "source": [
    "### Q.3"
   ]
  },
  {
   "cell_type": "markdown",
   "metadata": {},
   "source": [
    "#### (a)"
   ]
  },
  {
   "cell_type": "code",
   "execution_count": 10,
   "metadata": {},
   "outputs": [
    {
     "data": {
      "text/plain": [
       "0       Madhuri\n",
       "1    AjaySh@rma\n",
       "2          R@ni\n",
       "3         Radha\n",
       "4           NaN\n",
       "5         Smita\n",
       "6          3567\n",
       "dtype: object"
      ]
     },
     "execution_count": 10,
     "metadata": {},
     "output_type": "execute_result"
    }
   ],
   "source": [
    "sr = pd.Series(['Madhuri', 'AjaySh@rma', 'R@ni', 'Radha', np.nan, 'Smita', '3567'])\n",
    "sr"
   ]
  },
  {
   "cell_type": "code",
   "execution_count": 17,
   "metadata": {},
   "outputs": [
    {
     "data": {
      "text/plain": [
       "0     7.0\n",
       "1    10.0\n",
       "2     4.0\n",
       "3     5.0\n",
       "4     NaN\n",
       "5     5.0\n",
       "6     4.0\n",
       "dtype: float64"
      ]
     },
     "execution_count": 17,
     "metadata": {},
     "output_type": "execute_result"
    }
   ],
   "source": [
    "sr.apply(lambda x: len(x) if type(x) == str else None)"
   ]
  },
  {
   "cell_type": "code",
   "execution_count": 18,
   "metadata": {},
   "outputs": [
    {
     "data": {
      "text/plain": [
       "0       Madhuri\n",
       "1    AjaySharma\n",
       "2          Rani\n",
       "3         Radha\n",
       "4          None\n",
       "5         Smita\n",
       "6          3567\n",
       "dtype: object"
      ]
     },
     "execution_count": 18,
     "metadata": {},
     "output_type": "execute_result"
    }
   ],
   "source": [
    "sr.apply(lambda x: x.replace(\"@\", \"a\") if type(x) == str else None)"
   ]
  },
  {
   "cell_type": "code",
   "execution_count": 21,
   "metadata": {},
   "outputs": [
    {
     "data": {
      "text/plain": [
       "0    1.0\n",
       "1    2.0\n",
       "2    0.0\n",
       "3    2.0\n",
       "4    NaN\n",
       "5    1.0\n",
       "6    0.0\n",
       "dtype: float64"
      ]
     },
     "execution_count": 21,
     "metadata": {},
     "output_type": "execute_result"
    }
   ],
   "source": [
    "sr.apply(lambda x: x.count(\"a\") if type(x) == str else None) "
   ]
  },
  {
   "cell_type": "code",
   "execution_count": 22,
   "metadata": {},
   "outputs": [
    {
     "data": {
      "text/plain": [
       "0       mADHURI\n",
       "1    aJAYsH@RMA\n",
       "2          r@NI\n",
       "3         rADHA\n",
       "4          None\n",
       "5         sMITA\n",
       "6          3567\n",
       "dtype: object"
      ]
     },
     "execution_count": 22,
     "metadata": {},
     "output_type": "execute_result"
    }
   ],
   "source": [
    "sr.apply(lambda x: x.swapcase() if type(x) == str else None) "
   ]
  },
  {
   "cell_type": "code",
   "execution_count": 23,
   "metadata": {},
   "outputs": [
    {
     "data": {
      "text/plain": [
       "0    1.0\n",
       "1   -1.0\n",
       "2   -1.0\n",
       "3    1.0\n",
       "4    NaN\n",
       "5   -1.0\n",
       "6   -1.0\n",
       "dtype: float64"
      ]
     },
     "execution_count": 23,
     "metadata": {},
     "output_type": "execute_result"
    }
   ],
   "source": [
    "sr.apply(lambda x: x.find('adh') if type(x) == str else None)"
   ]
  },
  {
   "cell_type": "code",
   "execution_count": 24,
   "metadata": {},
   "outputs": [
    {
     "data": {
      "text/plain": [
       "0     True\n",
       "1    False\n",
       "2     True\n",
       "3    False\n",
       "4     None\n",
       "5    False\n",
       "6    False\n",
       "dtype: object"
      ]
     },
     "execution_count": 24,
     "metadata": {},
     "output_type": "execute_result"
    }
   ],
   "source": [
    "sr.apply(lambda x : x.endswith(\"i\") if type(x) == str else None)"
   ]
  },
  {
   "cell_type": "markdown",
   "metadata": {},
   "source": [
    "#### (b)"
   ]
  },
  {
   "cell_type": "code",
   "execution_count": 39,
   "metadata": {},
   "outputs": [
    {
     "data": {
      "text/html": [
       "<div>\n",
       "<style scoped>\n",
       "    .dataframe tbody tr th:only-of-type {\n",
       "        vertical-align: middle;\n",
       "    }\n",
       "\n",
       "    .dataframe tbody tr th {\n",
       "        vertical-align: top;\n",
       "    }\n",
       "\n",
       "    .dataframe thead th {\n",
       "        text-align: right;\n",
       "    }\n",
       "</style>\n",
       "<table border=\"1\" class=\"dataframe\">\n",
       "  <thead>\n",
       "    <tr style=\"text-align: right;\">\n",
       "      <th></th>\n",
       "      <th>0</th>\n",
       "      <th>1</th>\n",
       "      <th>2</th>\n",
       "      <th>3</th>\n",
       "      <th>4</th>\n",
       "      <th>5</th>\n",
       "      <th>6</th>\n",
       "    </tr>\n",
       "  </thead>\n",
       "  <tbody>\n",
       "    <tr>\n",
       "      <th>0</th>\n",
       "      <td>52</td>\n",
       "      <td>6</td>\n",
       "      <td>89</td>\n",
       "      <td>50</td>\n",
       "      <td>78</td>\n",
       "      <td>93</td>\n",
       "      <td>40</td>\n",
       "    </tr>\n",
       "    <tr>\n",
       "      <th>1</th>\n",
       "      <td>83</td>\n",
       "      <td>71</td>\n",
       "      <td>43</td>\n",
       "      <td>30</td>\n",
       "      <td>87</td>\n",
       "      <td>84</td>\n",
       "      <td>27</td>\n",
       "    </tr>\n",
       "    <tr>\n",
       "      <th>2</th>\n",
       "      <td>87</td>\n",
       "      <td>85</td>\n",
       "      <td>6</td>\n",
       "      <td>49</td>\n",
       "      <td>5</td>\n",
       "      <td>58</td>\n",
       "      <td>37</td>\n",
       "    </tr>\n",
       "    <tr>\n",
       "      <th>3</th>\n",
       "      <td>85</td>\n",
       "      <td>61</td>\n",
       "      <td>44</td>\n",
       "      <td>12</td>\n",
       "      <td>32</td>\n",
       "      <td>13</td>\n",
       "      <td>40</td>\n",
       "    </tr>\n",
       "    <tr>\n",
       "      <th>4</th>\n",
       "      <td>73</td>\n",
       "      <td>90</td>\n",
       "      <td>83</td>\n",
       "      <td>20</td>\n",
       "      <td>77</td>\n",
       "      <td>50</td>\n",
       "      <td>63</td>\n",
       "    </tr>\n",
       "    <tr>\n",
       "      <th>5</th>\n",
       "      <td>84</td>\n",
       "      <td>81</td>\n",
       "      <td>5</td>\n",
       "      <td>94</td>\n",
       "      <td>91</td>\n",
       "      <td>8</td>\n",
       "      <td>48</td>\n",
       "    </tr>\n",
       "    <tr>\n",
       "      <th>6</th>\n",
       "      <td>42</td>\n",
       "      <td>77</td>\n",
       "      <td>77</td>\n",
       "      <td>55</td>\n",
       "      <td>67</td>\n",
       "      <td>95</td>\n",
       "      <td>77</td>\n",
       "    </tr>\n",
       "  </tbody>\n",
       "</table>\n",
       "</div>"
      ],
      "text/plain": [
       "    0   1   2   3   4   5   6\n",
       "0  52   6  89  50  78  93  40\n",
       "1  83  71  43  30  87  84  27\n",
       "2  87  85   6  49   5  58  37\n",
       "3  85  61  44  12  32  13  40\n",
       "4  73  90  83  20  77  50  63\n",
       "5  84  81   5  94  91   8  48\n",
       "6  42  77  77  55  67  95  77"
      ]
     },
     "execution_count": 39,
     "metadata": {},
     "output_type": "execute_result"
    }
   ],
   "source": [
    "df = pd.DataFrame(np.random.randint(1,100, size=(7,7)))\n",
    "df"
   ]
  },
  {
   "cell_type": "code",
   "execution_count": 40,
   "metadata": {},
   "outputs": [
    {
     "name": "stdout",
     "output_type": "stream",
     "text": [
      "1 2 0.28918086782341307\n",
      "2 3 0.11991930529168267\n",
      "3 4 0.1618887963954778\n",
      "4 5 0.19097662995526835\n",
      "5 6 0.6830625202201227\n",
      "6 7 -0.04736934563575663\n"
     ]
    }
   ],
   "source": [
    "for i in range(1,7):\n",
    "    print(i, i+1, df.corrwith(df.iloc[i-1]).loc[i])"
   ]
  },
  {
   "cell_type": "code",
   "execution_count": 32,
   "metadata": {},
   "outputs": [
    {
     "data": {
      "text/plain": [
       "0    29\n",
       "1    53\n",
       "2    19\n",
       "3    46\n",
       "4    61\n",
       "5    57\n",
       "6    12\n",
       "Name: 0, dtype: int64"
      ]
     },
     "execution_count": 32,
     "metadata": {},
     "output_type": "execute_result"
    }
   ],
   "source": [
    "df.iloc[0]"
   ]
  },
  {
   "cell_type": "markdown",
   "metadata": {},
   "source": [
    "#### (c)"
   ]
  },
  {
   "cell_type": "code",
   "execution_count": 41,
   "metadata": {},
   "outputs": [
    {
     "data": {
      "text/plain": [
       "array([138,  74,  89,  86, 146, 140, 146, 117, 123, 142,  94, 119, 115,\n",
       "        85,  82, 138,  54, 146,  85, 146, 104, 126,  84,  79, 124, 114,\n",
       "        95,  92, 145, 147,  72,  83,  55, 112, 113, 141, 139,  65, 114,\n",
       "       123,  95, 149,  95,  76,  97, 134,  76,  66, 147,  86,  93,  94,\n",
       "       138, 123, 145,  80, 110,  82,  73,  62,  57,  85,  57,  61, 133,\n",
       "       103,  84, 148,  85,  65, 113, 109, 112, 127, 136,  85,  60, 128,\n",
       "       136, 109, 140, 141,  60, 146,  82,  75, 107, 138,  86, 131,  54,\n",
       "       116,  84,  53, 120,  77,  76,  99, 126,  94])"
      ]
     },
     "execution_count": 41,
     "metadata": {},
     "output_type": "execute_result"
    }
   ],
   "source": [
    "ar = np.random.randint(51,150, 100)\n",
    "ar"
   ]
  },
  {
   "cell_type": "code",
   "execution_count": 42,
   "metadata": {},
   "outputs": [
    {
     "data": {
      "text/plain": [
       "41"
      ]
     },
     "execution_count": 42,
     "metadata": {},
     "output_type": "execute_result"
    }
   ],
   "source": [
    "ar.argmax()"
   ]
  },
  {
   "cell_type": "code",
   "execution_count": 43,
   "metadata": {},
   "outputs": [
    {
     "data": {
      "text/plain": [
       "93"
      ]
     },
     "execution_count": 43,
     "metadata": {},
     "output_type": "execute_result"
    }
   ],
   "source": [
    "ar.argmin()"
   ]
  },
  {
   "cell_type": "code",
   "execution_count": 46,
   "metadata": {},
   "outputs": [],
   "source": [
    "ar2 = ar.reshape(10,10)"
   ]
  },
  {
   "cell_type": "code",
   "execution_count": 51,
   "metadata": {},
   "outputs": [
    {
     "data": {
      "text/plain": [
       "array([[  1,  74,  89,  86, 146, 140, 146, 117, 123, 142],\n",
       "       [ 94,   1, 115,  85,  82, 138,  54, 146,  85, 146],\n",
       "       [104, 126,   1,  79, 124, 114,  95,  92, 145, 147],\n",
       "       [ 72,  83,  55,   1, 113, 141, 139,  65, 114, 123],\n",
       "       [ 95, 149,  95,  76,   1, 134,  76,  66, 147,  86],\n",
       "       [ 93,  94, 138, 123, 145,   1, 110,  82,  73,  62],\n",
       "       [ 57,  85,  57,  61, 133, 103,   1, 148,  85,  65],\n",
       "       [113, 109, 112, 127, 136,  85,  60,   1, 136, 109],\n",
       "       [140, 141,  60, 146,  82,  75, 107, 138,   1, 131],\n",
       "       [ 54, 116,  84,  53, 120,  77,  76,  99, 126,   1]])"
      ]
     },
     "execution_count": 51,
     "metadata": {},
     "output_type": "execute_result"
    }
   ],
   "source": [
    "np.fill_diagonal(ar2, 1)\n",
    "ar2"
   ]
  },
  {
   "cell_type": "code",
   "execution_count": 53,
   "metadata": {},
   "outputs": [
    {
     "data": {
      "text/plain": [
       "array([[1, 0, 0, 0, 0, 0, 0, 0, 0, 0],\n",
       "       [0, 1, 0, 0, 0, 0, 0, 0, 0, 0],\n",
       "       [0, 0, 1, 0, 0, 0, 0, 0, 0, 0],\n",
       "       [0, 0, 0, 1, 0, 0, 0, 0, 0, 0],\n",
       "       [0, 0, 0, 0, 1, 0, 0, 0, 0, 0],\n",
       "       [0, 0, 0, 0, 0, 1, 0, 0, 0, 0],\n",
       "       [0, 0, 0, 0, 0, 0, 1, 0, 0, 0],\n",
       "       [0, 0, 0, 0, 0, 0, 0, 1, 0, 0],\n",
       "       [0, 0, 0, 0, 0, 0, 0, 0, 1, 0],\n",
       "       [0, 0, 0, 0, 0, 0, 0, 0, 0, 1]])"
      ]
     },
     "execution_count": 53,
     "metadata": {},
     "output_type": "execute_result"
    }
   ],
   "source": [
    "np.reciprocal(ar2)  # =>  reciprocal of element = 1/element"
   ]
  },
  {
   "cell_type": "markdown",
   "metadata": {},
   "source": [
    "### Q4"
   ]
  },
  {
   "cell_type": "markdown",
   "metadata": {},
   "source": [
    "#### (a)"
   ]
  },
  {
   "cell_type": "code",
   "execution_count": 57,
   "metadata": {},
   "outputs": [
    {
     "data": {
      "text/html": [
       "<div>\n",
       "<style scoped>\n",
       "    .dataframe tbody tr th:only-of-type {\n",
       "        vertical-align: middle;\n",
       "    }\n",
       "\n",
       "    .dataframe tbody tr th {\n",
       "        vertical-align: top;\n",
       "    }\n",
       "\n",
       "    .dataframe thead th {\n",
       "        text-align: right;\n",
       "    }\n",
       "</style>\n",
       "<table border=\"1\" class=\"dataframe\">\n",
       "  <thead>\n",
       "    <tr style=\"text-align: right;\">\n",
       "      <th></th>\n",
       "      <th>ID</th>\n",
       "      <th>Name</th>\n",
       "      <th>Diet</th>\n",
       "      <th>Pulse</th>\n",
       "      <th>Time (min)</th>\n",
       "      <th>Kind</th>\n",
       "    </tr>\n",
       "  </thead>\n",
       "  <tbody>\n",
       "    <tr>\n",
       "      <th>0</th>\n",
       "      <td>0</td>\n",
       "      <td>A</td>\n",
       "      <td>LOW FAT</td>\n",
       "      <td>85</td>\n",
       "      <td>40</td>\n",
       "      <td>walking</td>\n",
       "    </tr>\n",
       "    <tr>\n",
       "      <th>1</th>\n",
       "      <td>1</td>\n",
       "      <td>A</td>\n",
       "      <td>LOW FAT</td>\n",
       "      <td>85</td>\n",
       "      <td>45</td>\n",
       "      <td>walking</td>\n",
       "    </tr>\n",
       "    <tr>\n",
       "      <th>2</th>\n",
       "      <td>2</td>\n",
       "      <td>A</td>\n",
       "      <td>NO FAT</td>\n",
       "      <td>88</td>\n",
       "      <td>30</td>\n",
       "      <td>running</td>\n",
       "    </tr>\n",
       "    <tr>\n",
       "      <th>3</th>\n",
       "      <td>3</td>\n",
       "      <td>B</td>\n",
       "      <td>NO FAT</td>\n",
       "      <td>90</td>\n",
       "      <td>10</td>\n",
       "      <td>walking</td>\n",
       "    </tr>\n",
       "    <tr>\n",
       "      <th>4</th>\n",
       "      <td>4</td>\n",
       "      <td>B</td>\n",
       "      <td>NO FAT</td>\n",
       "      <td>92</td>\n",
       "      <td>15</td>\n",
       "      <td>rest</td>\n",
       "    </tr>\n",
       "    <tr>\n",
       "      <th>5</th>\n",
       "      <td>5</td>\n",
       "      <td>B</td>\n",
       "      <td>LOW FAT</td>\n",
       "      <td>93</td>\n",
       "      <td>30</td>\n",
       "      <td>rest</td>\n",
       "    </tr>\n",
       "    <tr>\n",
       "      <th>6</th>\n",
       "      <td>6</td>\n",
       "      <td>C</td>\n",
       "      <td>LOW FAT</td>\n",
       "      <td>97</td>\n",
       "      <td>15</td>\n",
       "      <td>rest</td>\n",
       "    </tr>\n",
       "    <tr>\n",
       "      <th>7</th>\n",
       "      <td>7</td>\n",
       "      <td>C</td>\n",
       "      <td>LOW FAT</td>\n",
       "      <td>97</td>\n",
       "      <td>15</td>\n",
       "      <td>rest</td>\n",
       "    </tr>\n",
       "    <tr>\n",
       "      <th>8</th>\n",
       "      <td>8</td>\n",
       "      <td>C</td>\n",
       "      <td>LOW FAT</td>\n",
       "      <td>94</td>\n",
       "      <td>30</td>\n",
       "      <td>walking</td>\n",
       "    </tr>\n",
       "    <tr>\n",
       "      <th>9</th>\n",
       "      <td>9</td>\n",
       "      <td>D</td>\n",
       "      <td>LOW FAT</td>\n",
       "      <td>80</td>\n",
       "      <td>10</td>\n",
       "      <td>walking</td>\n",
       "    </tr>\n",
       "    <tr>\n",
       "      <th>10</th>\n",
       "      <td>10</td>\n",
       "      <td>D</td>\n",
       "      <td>LOW FAT</td>\n",
       "      <td>82</td>\n",
       "      <td>15</td>\n",
       "      <td>rest</td>\n",
       "    </tr>\n",
       "    <tr>\n",
       "      <th>11</th>\n",
       "      <td>11</td>\n",
       "      <td>D</td>\n",
       "      <td>LOW FAT</td>\n",
       "      <td>83</td>\n",
       "      <td>30</td>\n",
       "      <td>rest</td>\n",
       "    </tr>\n",
       "    <tr>\n",
       "      <th>12</th>\n",
       "      <td>12</td>\n",
       "      <td>E</td>\n",
       "      <td>NO FAT</td>\n",
       "      <td>91</td>\n",
       "      <td>10</td>\n",
       "      <td>rest</td>\n",
       "    </tr>\n",
       "    <tr>\n",
       "      <th>13</th>\n",
       "      <td>13</td>\n",
       "      <td>E</td>\n",
       "      <td>LOW FAT</td>\n",
       "      <td>92</td>\n",
       "      <td>15</td>\n",
       "      <td>running</td>\n",
       "    </tr>\n",
       "    <tr>\n",
       "      <th>14</th>\n",
       "      <td>14</td>\n",
       "      <td>E</td>\n",
       "      <td>LOW FAT</td>\n",
       "      <td>91</td>\n",
       "      <td>30</td>\n",
       "      <td>running</td>\n",
       "    </tr>\n",
       "  </tbody>\n",
       "</table>\n",
       "</div>"
      ],
      "text/plain": [
       "    ID Name     Diet  Pulse  Time (min)     Kind\n",
       "0    0    A  LOW FAT     85          40  walking\n",
       "1    1    A  LOW FAT     85          45  walking\n",
       "2    2    A   NO FAT     88          30  running\n",
       "3    3    B   NO FAT     90          10  walking\n",
       "4    4    B   NO FAT     92          15     rest\n",
       "5    5    B  LOW FAT     93          30     rest\n",
       "6    6    C  LOW FAT     97          15     rest\n",
       "7    7    C  LOW FAT     97          15     rest\n",
       "8    8    C  LOW FAT     94          30  walking\n",
       "9    9    D  LOW FAT     80          10  walking\n",
       "10  10    D  LOW FAT     82          15     rest\n",
       "11  11    D  LOW FAT     83          30     rest\n",
       "12  12    E   NO FAT     91          10     rest\n",
       "13  13    E  LOW FAT     92          15  running\n",
       "14  14    E  LOW FAT     91          30  running"
      ]
     },
     "execution_count": 57,
     "metadata": {},
     "output_type": "execute_result"
    }
   ],
   "source": [
    "EXERCISE['Diet'] = EXERCISE['Diet'].map(lambda x: x.upper())\n",
    "EXERCISE"
   ]
  },
  {
   "cell_type": "code",
   "execution_count": 59,
   "metadata": {},
   "outputs": [],
   "source": [
    "EXERCISE.to_csv(\"Exercise.csv\", index=False)"
   ]
  },
  {
   "cell_type": "markdown",
   "metadata": {},
   "source": [
    "#### (b)"
   ]
  },
  {
   "cell_type": "code",
   "execution_count": 71,
   "metadata": {},
   "outputs": [
    {
     "ename": "ValueError",
     "evalue": "Index Name invalid",
     "output_type": "error",
     "traceback": [
      "\u001b[0;31m---------------------------------------------------------------------------\u001b[0m",
      "\u001b[0;31mValueError\u001b[0m                                Traceback (most recent call last)",
      "Cell \u001b[0;32mIn [71], line 1\u001b[0m\n\u001b[0;32m----> 1\u001b[0m data \u001b[39m=\u001b[39m pd\u001b[39m.\u001b[39;49mread_csv(\u001b[39m'\u001b[39;49m\u001b[39mExercise.csv\u001b[39;49m\u001b[39m'\u001b[39;49m, index_col\u001b[39m=\u001b[39;49m[\u001b[39m'\u001b[39;49m\u001b[39mName\u001b[39;49m\u001b[39m'\u001b[39;49m, \u001b[39m'\u001b[39;49m\u001b[39mDiet\u001b[39;49m\u001b[39m'\u001b[39;49m], skiprows\u001b[39m=\u001b[39;49m(\u001b[39mlambda\u001b[39;49;00m x:x \u001b[39m<\u001b[39;49m\u001b[39m=\u001b[39;49m \u001b[39m5\u001b[39;49m))\n",
      "File \u001b[0;32m/usr/lib/python3/dist-packages/pandas/util/_decorators.py:311\u001b[0m, in \u001b[0;36mdeprecate_nonkeyword_arguments.<locals>.decorate.<locals>.wrapper\u001b[0;34m(*args, **kwargs)\u001b[0m\n\u001b[1;32m    305\u001b[0m \u001b[39mif\u001b[39;00m \u001b[39mlen\u001b[39m(args) \u001b[39m>\u001b[39m num_allow_args:\n\u001b[1;32m    306\u001b[0m     warnings\u001b[39m.\u001b[39mwarn(\n\u001b[1;32m    307\u001b[0m         msg\u001b[39m.\u001b[39mformat(arguments\u001b[39m=\u001b[39marguments),\n\u001b[1;32m    308\u001b[0m         \u001b[39mFutureWarning\u001b[39;00m,\n\u001b[1;32m    309\u001b[0m         stacklevel\u001b[39m=\u001b[39mstacklevel,\n\u001b[1;32m    310\u001b[0m     )\n\u001b[0;32m--> 311\u001b[0m \u001b[39mreturn\u001b[39;00m func(\u001b[39m*\u001b[39;49margs, \u001b[39m*\u001b[39;49m\u001b[39m*\u001b[39;49mkwargs)\n",
      "File \u001b[0;32m/usr/lib/python3/dist-packages/pandas/io/parsers/readers.py:586\u001b[0m, in \u001b[0;36mread_csv\u001b[0;34m(filepath_or_buffer, sep, delimiter, header, names, index_col, usecols, squeeze, prefix, mangle_dupe_cols, dtype, engine, converters, true_values, false_values, skipinitialspace, skiprows, skipfooter, nrows, na_values, keep_default_na, na_filter, verbose, skip_blank_lines, parse_dates, infer_datetime_format, keep_date_col, date_parser, dayfirst, cache_dates, iterator, chunksize, compression, thousands, decimal, lineterminator, quotechar, quoting, doublequote, escapechar, comment, encoding, encoding_errors, dialect, error_bad_lines, warn_bad_lines, on_bad_lines, delim_whitespace, low_memory, memory_map, float_precision, storage_options)\u001b[0m\n\u001b[1;32m    571\u001b[0m kwds_defaults \u001b[39m=\u001b[39m _refine_defaults_read(\n\u001b[1;32m    572\u001b[0m     dialect,\n\u001b[1;32m    573\u001b[0m     delimiter,\n\u001b[0;32m   (...)\u001b[0m\n\u001b[1;32m    582\u001b[0m     defaults\u001b[39m=\u001b[39m{\u001b[39m\"\u001b[39m\u001b[39mdelimiter\u001b[39m\u001b[39m\"\u001b[39m: \u001b[39m\"\u001b[39m\u001b[39m,\u001b[39m\u001b[39m\"\u001b[39m},\n\u001b[1;32m    583\u001b[0m )\n\u001b[1;32m    584\u001b[0m kwds\u001b[39m.\u001b[39mupdate(kwds_defaults)\n\u001b[0;32m--> 586\u001b[0m \u001b[39mreturn\u001b[39;00m _read(filepath_or_buffer, kwds)\n",
      "File \u001b[0;32m/usr/lib/python3/dist-packages/pandas/io/parsers/readers.py:488\u001b[0m, in \u001b[0;36m_read\u001b[0;34m(filepath_or_buffer, kwds)\u001b[0m\n\u001b[1;32m    485\u001b[0m     \u001b[39mreturn\u001b[39;00m parser\n\u001b[1;32m    487\u001b[0m \u001b[39mwith\u001b[39;00m parser:\n\u001b[0;32m--> 488\u001b[0m     \u001b[39mreturn\u001b[39;00m parser\u001b[39m.\u001b[39;49mread(nrows)\n",
      "File \u001b[0;32m/usr/lib/python3/dist-packages/pandas/io/parsers/readers.py:1047\u001b[0m, in \u001b[0;36mTextFileReader.read\u001b[0;34m(self, nrows)\u001b[0m\n\u001b[1;32m   1045\u001b[0m \u001b[39mdef\u001b[39;00m \u001b[39mread\u001b[39m(\u001b[39mself\u001b[39m, nrows\u001b[39m=\u001b[39m\u001b[39mNone\u001b[39;00m):\n\u001b[1;32m   1046\u001b[0m     nrows \u001b[39m=\u001b[39m validate_integer(\u001b[39m\"\u001b[39m\u001b[39mnrows\u001b[39m\u001b[39m\"\u001b[39m, nrows)\n\u001b[0;32m-> 1047\u001b[0m     index, columns, col_dict \u001b[39m=\u001b[39m \u001b[39mself\u001b[39;49m\u001b[39m.\u001b[39;49m_engine\u001b[39m.\u001b[39;49mread(nrows)\n\u001b[1;32m   1049\u001b[0m     \u001b[39mif\u001b[39;00m index \u001b[39mis\u001b[39;00m \u001b[39mNone\u001b[39;00m:\n\u001b[1;32m   1050\u001b[0m         \u001b[39mif\u001b[39;00m col_dict:\n\u001b[1;32m   1051\u001b[0m             \u001b[39m# Any column is actually fine:\u001b[39;00m\n",
      "File \u001b[0;32m/usr/lib/python3/dist-packages/pandas/io/parsers/c_parser_wrapper.py:310\u001b[0m, in \u001b[0;36mCParserWrapper.read\u001b[0;34m(self, nrows)\u001b[0m\n\u001b[1;32m    307\u001b[0m     data \u001b[39m=\u001b[39m {k: v \u001b[39mfor\u001b[39;00m k, (i, v) \u001b[39min\u001b[39;00m \u001b[39mzip\u001b[39m(names, data_tups)}\n\u001b[1;32m    309\u001b[0m     names, data \u001b[39m=\u001b[39m \u001b[39mself\u001b[39m\u001b[39m.\u001b[39m_do_date_conversions(names, data)\n\u001b[0;32m--> 310\u001b[0m     index, names \u001b[39m=\u001b[39m \u001b[39mself\u001b[39;49m\u001b[39m.\u001b[39;49m_make_index(data, alldata, names)\n\u001b[1;32m    312\u001b[0m \u001b[39m# maybe create a mi on the columns\u001b[39;00m\n\u001b[1;32m    313\u001b[0m names \u001b[39m=\u001b[39m \u001b[39mself\u001b[39m\u001b[39m.\u001b[39m_maybe_make_multi_index_columns(names, \u001b[39mself\u001b[39m\u001b[39m.\u001b[39mcol_names)\n",
      "File \u001b[0;32m/usr/lib/python3/dist-packages/pandas/io/parsers/base_parser.py:415\u001b[0m, in \u001b[0;36mParserBase._make_index\u001b[0;34m(self, data, alldata, columns, indexnamerow)\u001b[0m\n\u001b[1;32m    412\u001b[0m     index \u001b[39m=\u001b[39m \u001b[39mNone\u001b[39;00m\n\u001b[1;32m    414\u001b[0m \u001b[39melif\u001b[39;00m \u001b[39mnot\u001b[39;00m \u001b[39mself\u001b[39m\u001b[39m.\u001b[39m_has_complex_date_col:\n\u001b[0;32m--> 415\u001b[0m     index \u001b[39m=\u001b[39m \u001b[39mself\u001b[39;49m\u001b[39m.\u001b[39;49m_get_simple_index(alldata, columns)\n\u001b[1;32m    416\u001b[0m     index \u001b[39m=\u001b[39m \u001b[39mself\u001b[39m\u001b[39m.\u001b[39m_agg_index(index)\n\u001b[1;32m    417\u001b[0m \u001b[39melif\u001b[39;00m \u001b[39mself\u001b[39m\u001b[39m.\u001b[39m_has_complex_date_col:\n",
      "File \u001b[0;32m/usr/lib/python3/dist-packages/pandas/io/parsers/base_parser.py:447\u001b[0m, in \u001b[0;36mParserBase._get_simple_index\u001b[0;34m(self, data, columns)\u001b[0m\n\u001b[1;32m    445\u001b[0m index \u001b[39m=\u001b[39m []\n\u001b[1;32m    446\u001b[0m \u001b[39mfor\u001b[39;00m idx \u001b[39min\u001b[39;00m \u001b[39mself\u001b[39m\u001b[39m.\u001b[39mindex_col:\n\u001b[0;32m--> 447\u001b[0m     i \u001b[39m=\u001b[39m ix(idx)\n\u001b[1;32m    448\u001b[0m     to_remove\u001b[39m.\u001b[39mappend(i)\n\u001b[1;32m    449\u001b[0m     index\u001b[39m.\u001b[39mappend(data[i])\n",
      "File \u001b[0;32m/usr/lib/python3/dist-packages/pandas/io/parsers/base_parser.py:442\u001b[0m, in \u001b[0;36mParserBase._get_simple_index.<locals>.ix\u001b[0;34m(col)\u001b[0m\n\u001b[1;32m    440\u001b[0m \u001b[39mif\u001b[39;00m \u001b[39mnot\u001b[39;00m \u001b[39misinstance\u001b[39m(col, \u001b[39mstr\u001b[39m):\n\u001b[1;32m    441\u001b[0m     \u001b[39mreturn\u001b[39;00m col\n\u001b[0;32m--> 442\u001b[0m \u001b[39mraise\u001b[39;00m \u001b[39mValueError\u001b[39;00m(\u001b[39mf\u001b[39m\u001b[39m\"\u001b[39m\u001b[39mIndex \u001b[39m\u001b[39m{\u001b[39;00mcol\u001b[39m}\u001b[39;00m\u001b[39m invalid\u001b[39m\u001b[39m\"\u001b[39m)\n",
      "\u001b[0;31mValueError\u001b[0m: Index Name invalid"
     ]
    }
   ],
   "source": [
    "data = pd.read_csv('Exercise.csv', index_col=['Name', 'Diet'], skiprows=(lambda x:x <= 5))\n"
   ]
  },
  {
   "cell_type": "code",
   "execution_count": 80,
   "metadata": {},
   "outputs": [
    {
     "data": {
      "text/plain": [
       "array([[  1. ,  20.8,  40.6],\n",
       "       [ 60.4,  80.2, 100. ]])"
      ]
     },
     "execution_count": 80,
     "metadata": {},
     "output_type": "execute_result"
    }
   ],
   "source": [
    "a = np.linspace(1, 100, 6).reshape(2,3)\n",
    "a"
   ]
  },
  {
   "cell_type": "code",
   "execution_count": 87,
   "metadata": {},
   "outputs": [
    {
     "data": {
      "text/plain": [
       "array([ 1. , 80.2])"
      ]
     },
     "execution_count": 87,
     "metadata": {},
     "output_type": "execute_result"
    }
   ],
   "source": [
    "np.diag(a)\n"
   ]
  },
  {
   "cell_type": "code",
   "execution_count": null,
   "metadata": {},
   "outputs": [],
   "source": []
  },
  {
   "cell_type": "code",
   "execution_count": 75,
   "metadata": {},
   "outputs": [
    {
     "data": {
      "text/plain": [
       "array([1., 1.])"
      ]
     },
     "execution_count": 75,
     "metadata": {},
     "output_type": "execute_result"
    }
   ],
   "source": [
    "\n",
    "np.diag()"
   ]
  }
 ],
 "metadata": {
  "kernelspec": {
   "display_name": "Python 3.10.8 64-bit",
   "language": "python",
   "name": "python3"
  },
  "language_info": {
   "codemirror_mode": {
    "name": "ipython",
    "version": 3
   },
   "file_extension": ".py",
   "mimetype": "text/x-python",
   "name": "python",
   "nbconvert_exporter": "python",
   "pygments_lexer": "ipython3",
   "version": "3.10.8"
  },
  "orig_nbformat": 4,
  "vscode": {
   "interpreter": {
    "hash": "767d51c1340bd893661ea55ea3124f6de3c7a262a8b4abca0554b478b1e2ff90"
   }
  }
 },
 "nbformat": 4,
 "nbformat_minor": 2
}
